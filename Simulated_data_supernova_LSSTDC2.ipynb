{
 "cells": [
  {
   "cell_type": "markdown",
   "id": "b2a144a2",
   "metadata": {},
   "source": [
    "# Inspecting simulated supernova data at LSST DC2\n",
    "\n",
    "**Author**:Laura Margarita Rodriguez Ortiz.\n",
    "\n",
    "**Contributing authors**: Dr.Luis Henry Quiroga.\n",
    "\n",
    "This notebook will illustrate the basics of supernova data and how to treat it, such as its light curves and sky coordinates.\n",
    "\n",
    "**Learning objectives:** \n",
    "* Improve the access management data in the LSST project for the public.\n",
    "\n",
    "* Supply a description of of what can be obtained from the data at LSST DC2.\n",
    "\n",
    "## Before you start\n",
    "\n",
    "In this notebook, the following files was download in the local machine, if you want direct access of those, you can transfer the DC2 Public Release data using [Globus](https://data.lsstdesc.org/doc/download).\n",
    "\n",
    "* lsstdesc-public/dc2/run2.2i-dr6-v4/truth_sn/truth_sn_summary_v1-0-0.parquet\n",
    "* lsstdesc-public/dc2/run2.2i-dr6-v4/truth_sn/truth_sn_variability_v1-0-0.parquet\n"
   ]
  },
  {
   "cell_type": "markdown",
   "id": "6e231635",
   "metadata": {},
   "source": [
    "## Import packages"
   ]
  },
  {
   "cell_type": "code",
   "execution_count": 1,
   "id": "f0908408",
   "metadata": {},
   "outputs": [],
   "source": [
    "import numpy as np\n",
    "import matplotlib.pyplot as plt\n",
    "import seaborn as sns \n",
    "import pandas as pd"
   ]
  },
  {
   "cell_type": "code",
   "execution_count": 2,
   "id": "706026c4",
   "metadata": {},
   "outputs": [],
   "source": [
    "from astropy.coordinates import SkyCoord "
   ]
  },
  {
   "cell_type": "code",
   "execution_count": 3,
   "id": "1d3da7f1",
   "metadata": {},
   "outputs": [],
   "source": [
    "import GCRCatalogs \n",
    "from GCRCatalogs.utils import first"
   ]
  },
  {
   "cell_type": "code",
   "execution_count": 4,
   "id": "418d6fbb",
   "metadata": {},
   "outputs": [],
   "source": [
    "import collections\n",
    "from collections import OrderedDict"
   ]
  },
  {
   "cell_type": "markdown",
   "id": "a8eba530",
   "metadata": {},
   "source": [
    "## Function Definition"
   ]
  },
  {
   "cell_type": "code",
   "execution_count": 5,
   "id": "dd3c3d0a",
   "metadata": {},
   "outputs": [],
   "source": [
    "def calculate_maxflux_per_bandpass(bandpass):\n",
    "    '''\n",
    "   Evaluation of peaks for each bandpass supernova to be analyzed, \n",
    "   with the condition that the point before and the point after the maximum \n",
    "   must have less magnitude than the maximum of each light curve described.\n",
    "    '''\n",
    "    g_g= grp.get_group(bandpass)\n",
    "    \n",
    "    bb= np.array(g_g['delta_flux'])\n",
    "    aa=np.array(g_g['MJD'])\n",
    "    \n",
    "    \n",
    "    maxindex= int(np.where(bb==np.max(bb))[0][0])\n",
    "    if len(bb)<3 or bb[0]==bb[maxindex] or bb[-1]==bb[maxindex]:\n",
    "        print('No peak for this sn in the band: ')\n",
    "        print(bandpass)\n",
    "        b_maxg= 0\n",
    "        t_maxg= 0\n",
    "        maxg= 0\n",
    "        tmaxg= 0\n",
    "        a_maxg= 0\n",
    "        tp_maxg= 0\n",
    "        duracion_ta_tp= 0\n",
    "        duracion_ta_tmax= 0\n",
    "        duracion_tmax_tp= 0\n",
    "    else:\n",
    "        b_maxg= bb[maxindex-1]\n",
    "        t_maxg= aa[maxindex-1]\n",
    "        maxg=bb[maxindex]\n",
    "        tmaxg= aa[maxindex]\n",
    "        a_maxg= bb[maxindex+1]\n",
    "        tp_maxg= aa[maxindex+1]\n",
    "        \n",
    "        duracion_ta_tp= tp_maxg - t_maxg\n",
    "        duracion_ta_tmax= tmaxg - t_maxg\n",
    "        duracion_tmax_tp= tp_maxg - tmaxg\n",
    "        \n",
    "        print('For ', bandpass)\n",
    "        print('Flux before max:', b_maxg, ', Peak flux: ', maxg, ', Post peak flux: ', a_maxg)\n",
    "        print('MJD before max:', t_maxg, ', Peak MJD: ', tmaxg, ', Post peak MJD: ', tp_maxg )\n",
    "    return maxg, tmaxg, t_maxg, tp_maxg, b_maxg, a_maxg, duracion_ta_tp, duracion_ta_tmax, duracion_tmax_tp\n"
   ]
  },
  {
   "cell_type": "code",
   "execution_count": 6,
   "id": "5ad76f85",
   "metadata": {},
   "outputs": [
    {
     "name": "stdout",
     "output_type": "stream",
     "text": [
      "Write the supernova ID: 7169215185942\n"
     ]
    }
   ],
   "source": [
    "sn_name = input('Write the supernova ID: ')"
   ]
  },
  {
   "cell_type": "code",
   "execution_count": 7,
   "id": "9295f197",
   "metadata": {},
   "outputs": [],
   "source": [
    "sn= int(sn_name)"
   ]
  },
  {
   "cell_type": "markdown",
   "id": "65a09886",
   "metadata": {},
   "source": [
    "## Load supernovas catalogs and Data Frames"
   ]
  },
  {
   "cell_type": "code",
   "execution_count": 8,
   "id": "3fd8f352",
   "metadata": {},
   "outputs": [
    {
     "data": {
      "text/plain": [
       "['delta_flux', 'MJD', 'bandpass', 'obsHistID', 'id', 'id_string']"
      ]
     },
     "execution_count": 8,
     "metadata": {},
     "output_type": "execute_result"
    }
   ],
   "source": [
    "# Load catalogs from simulated data of supernovas, this bring us the caractherisitics that we could find for each supernova\n",
    "\n",
    "sn_light_curve_cat = GCRCatalogs.load_catalog(\"desc_dc2_run2.2i_truth_sn_variability\")\n",
    "sn_light_curve_cat.list_all_quantities()"
   ]
  },
  {
   "cell_type": "code",
   "execution_count": 9,
   "id": "64148cdd",
   "metadata": {
    "scrolled": true
   },
   "outputs": [
    {
     "data": {
      "text/html": [
       "<div>\n",
       "<style scoped>\n",
       "    .dataframe tbody tr th:only-of-type {\n",
       "        vertical-align: middle;\n",
       "    }\n",
       "\n",
       "    .dataframe tbody tr th {\n",
       "        vertical-align: top;\n",
       "    }\n",
       "\n",
       "    .dataframe thead th {\n",
       "        text-align: right;\n",
       "    }\n",
       "</style>\n",
       "<table border=\"1\" class=\"dataframe\">\n",
       "  <thead>\n",
       "    <tr style=\"text-align: right;\">\n",
       "      <th></th>\n",
       "      <th>delta_flux</th>\n",
       "      <th>bandpass</th>\n",
       "      <th>MJD</th>\n",
       "      <th>obsHistID</th>\n",
       "      <th>id</th>\n",
       "      <th>id_string</th>\n",
       "    </tr>\n",
       "  </thead>\n",
       "  <tbody>\n",
       "    <tr>\n",
       "      <th>0</th>\n",
       "      <td>1761.107666</td>\n",
       "      <td>z</td>\n",
       "      <td>60753.011084</td>\n",
       "      <td>796369</td>\n",
       "      <td>10816002161686</td>\n",
       "      <td>MS_10199_0</td>\n",
       "    </tr>\n",
       "    <tr>\n",
       "      <th>1</th>\n",
       "      <td>1808.408447</td>\n",
       "      <td>z</td>\n",
       "      <td>60753.039172</td>\n",
       "      <td>796420</td>\n",
       "      <td>10816002161686</td>\n",
       "      <td>MS_10199_0</td>\n",
       "    </tr>\n",
       "    <tr>\n",
       "      <th>2</th>\n",
       "      <td>6543.662109</td>\n",
       "      <td>z</td>\n",
       "      <td>60754.996432</td>\n",
       "      <td>798153</td>\n",
       "      <td>10816002161686</td>\n",
       "      <td>MS_10199_0</td>\n",
       "    </tr>\n",
       "    <tr>\n",
       "      <th>3</th>\n",
       "      <td>3875.850098</td>\n",
       "      <td>y</td>\n",
       "      <td>60755.999051</td>\n",
       "      <td>799057</td>\n",
       "      <td>10816002161686</td>\n",
       "      <td>MS_10199_0</td>\n",
       "    </tr>\n",
       "    <tr>\n",
       "      <th>4</th>\n",
       "      <td>70788.859375</td>\n",
       "      <td>y</td>\n",
       "      <td>60767.990715</td>\n",
       "      <td>809099</td>\n",
       "      <td>10816002161686</td>\n",
       "      <td>MS_10199_0</td>\n",
       "    </tr>\n",
       "  </tbody>\n",
       "</table>\n",
       "</div>"
      ],
      "text/plain": [
       "     delta_flux bandpass           MJD  obsHistID              id   id_string\n",
       "0   1761.107666        z  60753.011084     796369  10816002161686  MS_10199_0\n",
       "1   1808.408447        z  60753.039172     796420  10816002161686  MS_10199_0\n",
       "2   6543.662109        z  60754.996432     798153  10816002161686  MS_10199_0\n",
       "3   3875.850098        y  60755.999051     799057  10816002161686  MS_10199_0\n",
       "4  70788.859375        y  60767.990715     809099  10816002161686  MS_10199_0"
      ]
     },
     "execution_count": 9,
     "metadata": {},
     "output_type": "execute_result"
    }
   ],
   "source": [
    "#Load all the data of supernovas, we can visualice the head of all the data contained in the catalogs\n",
    "\n",
    "d_lc = pd.DataFrame(first(sn_light_curve_cat.get_quantities(sn_light_curve_cat.list_all_quantities(), return_iterator=True)))\n",
    "d_lc.head()"
   ]
  },
  {
   "cell_type": "code",
   "execution_count": 10,
   "id": "a01b27c2",
   "metadata": {},
   "outputs": [
    {
     "data": {
      "text/html": [
       "<div>\n",
       "<style scoped>\n",
       "    .dataframe tbody tr th:only-of-type {\n",
       "        vertical-align: middle;\n",
       "    }\n",
       "\n",
       "    .dataframe tbody tr th {\n",
       "        vertical-align: top;\n",
       "    }\n",
       "\n",
       "    .dataframe thead th {\n",
       "        text-align: right;\n",
       "    }\n",
       "</style>\n",
       "<table border=\"1\" class=\"dataframe\">\n",
       "  <thead>\n",
       "    <tr style=\"text-align: right;\">\n",
       "      <th></th>\n",
       "      <th>bandpass</th>\n",
       "      <th>delta_flux</th>\n",
       "      <th>MJD</th>\n",
       "      <th>id</th>\n",
       "    </tr>\n",
       "  </thead>\n",
       "  <tbody>\n",
       "    <tr>\n",
       "      <th>20600877</th>\n",
       "      <td>i</td>\n",
       "      <td>0.673760</td>\n",
       "      <td>62034.375116</td>\n",
       "      <td>7169215185942</td>\n",
       "    </tr>\n",
       "    <tr>\n",
       "      <th>20600878</th>\n",
       "      <td>z</td>\n",
       "      <td>11.204701</td>\n",
       "      <td>62037.393094</td>\n",
       "      <td>7169215185942</td>\n",
       "    </tr>\n",
       "    <tr>\n",
       "      <th>20600879</th>\n",
       "      <td>r</td>\n",
       "      <td>1.420564</td>\n",
       "      <td>62038.238672</td>\n",
       "      <td>7169215185942</td>\n",
       "    </tr>\n",
       "    <tr>\n",
       "      <th>20600880</th>\n",
       "      <td>r</td>\n",
       "      <td>1.506814</td>\n",
       "      <td>62038.362723</td>\n",
       "      <td>7169215185942</td>\n",
       "    </tr>\n",
       "    <tr>\n",
       "      <th>20600881</th>\n",
       "      <td>r</td>\n",
       "      <td>1.507828</td>\n",
       "      <td>62038.364140</td>\n",
       "      <td>7169215185942</td>\n",
       "    </tr>\n",
       "  </tbody>\n",
       "</table>\n",
       "</div>"
      ],
      "text/plain": [
       "         bandpass  delta_flux           MJD             id\n",
       "20600877        i    0.673760  62034.375116  7169215185942\n",
       "20600878        z   11.204701  62037.393094  7169215185942\n",
       "20600879        r    1.420564  62038.238672  7169215185942\n",
       "20600880        r    1.506814  62038.362723  7169215185942\n",
       "20600881        r    1.507828  62038.364140  7169215185942"
      ]
     },
     "execution_count": 10,
     "metadata": {},
     "output_type": "execute_result"
    }
   ],
   "source": [
    "# To choose only the features like Time, Bandpass, Flux for each ID, that is, for each supernova we want to work with,\n",
    "# we can redefine the data frame, with d_lc[d_lc.id == sn].\n",
    "\n",
    "d_lc = pd.DataFrame(sn_light_curve_cat.get_quantities(['MJD', 'bandpass', 'delta_flux', 'id']))\n",
    "d_lc[d_lc.id == sn]\n",
    "data_lc = d_lc[d_lc.id == sn]\n",
    "data_lc.head()"
   ]
  },
  {
   "cell_type": "code",
   "execution_count": 11,
   "id": "e96d30af",
   "metadata": {
    "scrolled": true
   },
   "outputs": [
    {
     "data": {
      "text/plain": [
       "Text(0.5, 1.0, '7169215185942')"
      ]
     },
     "execution_count": 11,
     "metadata": {},
     "output_type": "execute_result"
    },
    {
     "data": {
      "image/png": "[encoded data removed]",
      "text/plain": [
       "<Figure size 416x360 with 1 Axes>"
      ]
     },
     "metadata": {
      "needs_background": "light"
     },
     "output_type": "display_data"
    }
   ],
   "source": [
    "graphic=sns.lmplot(x='MJD', y='delta_flux', data=data_lc, hue='bandpass',palette='colorblind', fit_reg=(False))\n",
    "graphic.set(xlabel = 'MJD', ylabel = 'Magnitude')\n",
    "plt.title(sn)"
   ]
  },
  {
   "cell_type": "markdown",
   "id": "bbadcecd",
   "metadata": {},
   "source": [
    "## Calculations and development"
   ]
  },
  {
   "cell_type": "markdown",
   "id": "c6427ce5",
   "metadata": {},
   "source": [
    "It's important to remember that each supernova contains a different bandpass, in this order, each bandpass for one supernova, contains certain time and flow data."
   ]
  },
  {
   "cell_type": "code",
   "execution_count": 12,
   "id": "d428b026",
   "metadata": {},
   "outputs": [],
   "source": [
    "#Selection of the flux for the entered ID\n",
    "data_ran = data_lc.loc[:,['delta_flux','bandpass','MJD']]"
   ]
  },
  {
   "cell_type": "code",
   "execution_count": 13,
   "id": "68542318",
   "metadata": {},
   "outputs": [],
   "source": [
    "grp = data_ran.groupby('bandpass')"
   ]
  },
  {
   "cell_type": "code",
   "execution_count": 14,
   "id": "ed4f3a45",
   "metadata": {},
   "outputs": [],
   "source": [
    "filtros=list(set(data_ran['bandpass']))"
   ]
  },
  {
   "cell_type": "code",
   "execution_count": 15,
   "id": "3e3e50b5",
   "metadata": {},
   "outputs": [],
   "source": [
    "maximos=[]\n",
    "an_max=[]\n",
    "pos_max=[]\n",
    "tiempos_max=[]\n",
    "ant_max=[]\n",
    "post_max=[]\n",
    "du_ta_tp= []\n",
    "du_ta_tmax= []\n",
    "du_tmax_tp= []\n",
    "conteo_bandas= OrderedDict()"
   ]
  },
  {
   "cell_type": "code",
   "execution_count": 16,
   "id": "9ccfac48",
   "metadata": {},
   "outputs": [],
   "source": [
    "#Count of the supernovas that satisfy the conditions defined in the \"Function Definition\"\n",
    "for i in filtros:\n",
    "        conteo_bandas[i]= []"
   ]
  },
  {
   "cell_type": "code",
   "execution_count": 17,
   "id": "ee153802",
   "metadata": {},
   "outputs": [
    {
     "name": "stdout",
     "output_type": "stream",
     "text": [
      "No peak for this sn in the band: \n",
      "g\n",
      "No peak for this sn in the band: \n",
      "u\n",
      "For  r\n",
      "Flux before max: 561.0421 , Peak flux:  635.4861 , Post peak flux:  635.25275\n",
      "MJD before max: 62057.201816 , Peak MJD:  62066.143618 , Post peak MJD:  62066.165885\n",
      "For  y\n",
      "Flux before max: 334.92606 , Peak flux:  1113.8737 , Post peak flux:  596.514\n",
      "MJD before max: 62047.1973 , Peak MJD:  62076.12137 , Post peak MJD:  62104.04191\n",
      "For  i\n",
      "Flux before max: 1016.461 , Peak flux:  1217.8518 , Post peak flux:  1217.8408\n",
      "MJD before max: 62058.187128 , Peak MJD:  62069.126772 , Post peak MJD:  62069.127674\n",
      "For  z\n",
      "Flux before max: 914.17926 , Peak flux:  1013.697 , Post peak flux:  1013.6892\n",
      "MJD before max: 62059.379997 , Peak MJD:  62074.138109 , Post peak MJD:  62074.138557\n"
     ]
    }
   ],
   "source": [
    "#Evaluation of the \"Function Definition\" for the supernova(s) for each bandpass\n",
    "for i in filtros:    \n",
    "        try:\n",
    "            maxg, tmaxg, t_maxg, tp_maxg, b_maxg, a_maxg, duracion_ta_tp, duracion_ta_tmax, duracion_tmax_tp = calculate_maxflux_per_bandpass(i)\n",
    "            maximos.append(maxg)\n",
    "            tiempos_max.append(tmaxg)\n",
    "            an_max.append(b_maxg)\n",
    "            pos_max.append(a_maxg)\n",
    "            ant_max.append(t_maxg)\n",
    "            post_max.append(tp_maxg)\n",
    "            du_ta_tp.append(duracion_ta_tp)\n",
    "            du_ta_tmax.append(duracion_ta_tmax)\n",
    "            du_tmax_tp.append(duracion_tmax_tp)\n",
    "            conteo_bandas[i]= 1\n",
    "\n",
    "        except:\n",
    "            print(\"There's no band\")  \n",
    "            print(i)\n",
    "            conteo_bandas[i]= 0"
   ]
  },
  {
   "cell_type": "markdown",
   "id": "aedf4e8a",
   "metadata": {},
   "source": [
    "## Results"
   ]
  },
  {
   "cell_type": "markdown",
   "id": "6bf46709",
   "metadata": {},
   "source": [
    "To visualize the data obtained for the chosen supernova in an orderly manner, a new Data Frame is created, in which the data of the maximum points per bandpass and the elements that were defined in _\"Function Definition\"_."
   ]
  },
  {
   "cell_type": "code",
   "execution_count": 21,
   "id": "f85b41d7",
   "metadata": {},
   "outputs": [],
   "source": [
    "df_max=pd.DataFrame()"
   ]
  },
  {
   "cell_type": "code",
   "execution_count": 22,
   "id": "d8ac9fb9",
   "metadata": {},
   "outputs": [
    {
     "name": "stdout",
     "output_type": "stream",
     "text": [
      "Maximums for sn ID:  7169215185942\n"
     ]
    },
    {
     "data": {
      "text/html": [
       "<div>\n",
       "<style scoped>\n",
       "    .dataframe tbody tr th:only-of-type {\n",
       "        vertical-align: middle;\n",
       "    }\n",
       "\n",
       "    .dataframe tbody tr th {\n",
       "        vertical-align: top;\n",
       "    }\n",
       "\n",
       "    .dataframe thead th {\n",
       "        text-align: right;\n",
       "    }\n",
       "</style>\n",
       "<table border=\"1\" class=\"dataframe\">\n",
       "  <thead>\n",
       "    <tr style=\"text-align: right;\">\n",
       "      <th></th>\n",
       "      <th>Bandpass</th>\n",
       "      <th>Max.Delta_Flux</th>\n",
       "      <th>Max.MJD</th>\n",
       "      <th>Flux_before</th>\n",
       "      <th>Flux_post</th>\n",
       "      <th>Time_before</th>\n",
       "      <th>Time_post</th>\n",
       "      <th>Before max - Post max</th>\n",
       "      <th>Before max - Peak</th>\n",
       "      <th>Peak - Post max</th>\n",
       "    </tr>\n",
       "  </thead>\n",
       "  <tbody>\n",
       "    <tr>\n",
       "      <th>4</th>\n",
       "      <td>i</td>\n",
       "      <td>1217.851807</td>\n",
       "      <td>62069.126772</td>\n",
       "      <td>1016.460999</td>\n",
       "      <td>1217.840820</td>\n",
       "      <td>62058.187128</td>\n",
       "      <td>62069.127674</td>\n",
       "      <td>10.940546</td>\n",
       "      <td>10.939644</td>\n",
       "      <td>0.000902</td>\n",
       "    </tr>\n",
       "    <tr>\n",
       "      <th>3</th>\n",
       "      <td>y</td>\n",
       "      <td>1113.873657</td>\n",
       "      <td>62076.121370</td>\n",
       "      <td>334.926056</td>\n",
       "      <td>596.513977</td>\n",
       "      <td>62047.197300</td>\n",
       "      <td>62104.041910</td>\n",
       "      <td>56.844610</td>\n",
       "      <td>28.924070</td>\n",
       "      <td>27.920540</td>\n",
       "    </tr>\n",
       "    <tr>\n",
       "      <th>5</th>\n",
       "      <td>z</td>\n",
       "      <td>1013.697021</td>\n",
       "      <td>62074.138109</td>\n",
       "      <td>914.179260</td>\n",
       "      <td>1013.689209</td>\n",
       "      <td>62059.379997</td>\n",
       "      <td>62074.138557</td>\n",
       "      <td>14.758560</td>\n",
       "      <td>14.758112</td>\n",
       "      <td>0.000448</td>\n",
       "    </tr>\n",
       "    <tr>\n",
       "      <th>2</th>\n",
       "      <td>r</td>\n",
       "      <td>635.486084</td>\n",
       "      <td>62066.143618</td>\n",
       "      <td>561.042114</td>\n",
       "      <td>635.252747</td>\n",
       "      <td>62057.201816</td>\n",
       "      <td>62066.165885</td>\n",
       "      <td>8.964069</td>\n",
       "      <td>8.941802</td>\n",
       "      <td>0.022267</td>\n",
       "    </tr>\n",
       "  </tbody>\n",
       "</table>\n",
       "</div>"
      ],
      "text/plain": [
       "  Bandpass  Max.Delta_Flux       Max.MJD  Flux_before    Flux_post  \\\n",
       "4        i     1217.851807  62069.126772  1016.460999  1217.840820   \n",
       "3        y     1113.873657  62076.121370   334.926056   596.513977   \n",
       "5        z     1013.697021  62074.138109   914.179260  1013.689209   \n",
       "2        r      635.486084  62066.143618   561.042114   635.252747   \n",
       "\n",
       "    Time_before     Time_post  Before max - Post max  Before max - Peak  \\\n",
       "4  62058.187128  62069.127674              10.940546          10.939644   \n",
       "3  62047.197300  62104.041910              56.844610          28.924070   \n",
       "5  62059.379997  62074.138557              14.758560          14.758112   \n",
       "2  62057.201816  62066.165885               8.964069           8.941802   \n",
       "\n",
       "   Peak - Post max  \n",
       "4         0.000902  \n",
       "3        27.920540  \n",
       "5         0.000448  \n",
       "2         0.022267  "
      ]
     },
     "execution_count": 22,
     "metadata": {},
     "output_type": "execute_result"
    }
   ],
   "source": [
    "df_max['Bandpass'] = filtros\n",
    "df_max['Max.Delta_Flux'] = maximos\n",
    "df_max['Max.MJD'] = tiempos_max\n",
    "df_max['Flux_before'] = an_max\n",
    "df_max['Flux_post'] = pos_max\n",
    "df_max['Time_before'] = ant_max\n",
    "df_max['Time_post'] = post_max\n",
    "df_max['Before max - Post max']= du_ta_tp\n",
    "df_max['Before max - Peak']= du_ta_tmax\n",
    "df_max['Peak - Post max']=  du_tmax_tp\n",
    "orden= df_max.sort_values('Max.Delta_Flux', ascending=False)\n",
    "#Remove the values = 0\n",
    "orden= orden.drop(df_max[df_max['Max.Delta_Flux']==0].index) \n",
    "\n",
    "#Table for the new data frame\n",
    "print('Maximums for sn ID: ', sn_name)\n",
    "orden.head()"
   ]
  }
 ],
 "metadata": {
  "kernelspec": {
   "display_name": "Python 3 (ipykernel)",
   "language": "python",
   "name": "python3"
  },
  "language_info": {
   "codemirror_mode": {
    "name": "ipython",
    "version": 3
   },
   "file_extension": ".py",
   "mimetype": "text/x-python",
   "name": "python",
   "nbconvert_exporter": "python",
   "pygments_lexer": "ipython3",
   "version": "3.9.12"
  }
 },
 "nbformat": 4,
 "nbformat_minor": 5
}
